{
 "cells": [
  {
   "cell_type": "code",
   "execution_count": 2,
   "metadata": {},
   "outputs": [],
   "source": [
    "import pandas as pd\n",
    "import requests\n",
    "from time import sleep"
   ]
  },
  {
   "cell_type": "code",
   "execution_count": 3,
   "metadata": {},
   "outputs": [],
   "source": [
    "url  ='http://dadosabertos.rio.rj.gov.br/apiTransporte/apresentacao/rest/index.cfm/obterTodasPosicoes'"
   ]
  },
  {
   "cell_type": "code",
   "execution_count": 22,
   "metadata": {},
   "outputs": [],
   "source": [
    "def get_data():\n",
    "    try:\n",
    "        data = requests.get(url).json()\n",
    "        df = pd.DataFrame.from_records(data['DATA'], columns=data['COLUMNS'])\n",
    "        df['DATAHORA'].apply(lambda x: pd.datetime.strptime(x, \"%m-%d-%Y %H:%M:%S\"))\n",
    "        df['DATAHORA'] = pd.to_datetime(df['DATAHORA'], errors='coerce')\n",
    "        return df\n",
    "    except:\n",
    "        return pd.DataFrame()"
   ]
  },
  {
   "cell_type": "code",
   "execution_count": 23,
   "metadata": {},
   "outputs": [
    {
     "name": "stdout",
     "output_type": "stream",
     "text": [
      "Updating ed14bac..9caa328\n",
      "Fast-forward\n",
      " all_data.csv | 85285 +++++++++++++++++++++++++++++++++++++++++++++++++++++++++\n",
      " 1 file changed, 85285 insertions(+)\n"
     ]
    },
    {
     "name": "stderr",
     "output_type": "stream",
     "text": [
      "From https://github.com/lfkopp/epidemia_COVID\n",
      "   ed14bac..9caa328  master     -> origin/master\n",
      "warning: LF will be replaced by CRLF in coletor_de_dados.ipynb.\n",
      "The file will have its original line endings in your working directory\n",
      "warning: LF will be replaced by CRLF in visualizacao.ipynb.\n",
      "The file will have its original line endings in your working directory\n"
     ]
    },
    {
     "name": "stdout",
     "output_type": "stream",
     "text": [
      "[master b880323] atualizando dados\n",
      " 8 files changed, 1347316 insertions(+), 1119305 deletions(-)\n",
      " create mode 100644 data/2020-04-05.csv\n",
      " create mode 100644 data/2020-04-06.csv\n",
      " create mode 100644 data/2020-04-07.csv\n",
      " create mode 100644 data/2020-04-09.csv\n",
      " create mode 100644 data/2020-04-10.csv\n",
      " create mode 100644 data/2020-04-11.csv\n",
      " rewrite visualizacao.ipynb (68%)\n"
     ]
    },
    {
     "name": "stderr",
     "output_type": "stream",
     "text": [
      "To https://github.com/lfkopp/epidemia_COVID.git\n",
      "   9caa328..b880323  master -> master\n"
     ]
    }
   ],
   "source": [
    "y=0\n",
    "while True:\n",
    "    new_data = get_data()\n",
    "    if new_data.shape[0] >0:\n",
    "        datas = list(new_data.DATAHORA.dt.date.unique())\n",
    "        for data in datas:\n",
    "            filename = \"data/\"+str(data)+\".csv\"\n",
    "            try:\n",
    "                d = pd.read_csv(filename, parse_dates = ['DATAHORA'])\n",
    "            except:\n",
    "                d = pd.DataFrame()\n",
    "\n",
    "            d2 = d.append(new_data[new_data.DATAHORA.dt.date == data], ignore_index=True)\n",
    "            d2 = d2.drop_duplicates(keep='first')\n",
    "            d2.to_csv(filename, index=False)\n",
    "\n",
    "\n",
    "        if y%10 == 0:\n",
    "            !git pull\n",
    "            !git add .\n",
    "            !git commit -m \"atualizando dados\"\n",
    "            !git push\n",
    "    info = {'api_key':'QEZAG779CCSVAYZ5', 'field2': new_data.shape[0]}\n",
    "    thing_url ='https://api.thingspeak.com/update'\n",
    "    requests.post(thing_url,info)\n",
    "    y += 1\n",
    "    sleep(180)\n",
    "    \n"
   ]
  }
 ],
 "metadata": {
  "kernelspec": {
   "display_name": "Python 3",
   "language": "python",
   "name": "python3"
  },
  "language_info": {
   "codemirror_mode": {
    "name": "ipython",
    "version": 3
   },
   "file_extension": ".py",
   "mimetype": "text/x-python",
   "name": "python",
   "nbconvert_exporter": "python",
   "pygments_lexer": "ipython3",
   "version": "3.7.1"
  }
 },
 "nbformat": 4,
 "nbformat_minor": 2
}
