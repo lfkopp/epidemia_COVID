{
 "cells": [
  {
   "cell_type": "code",
   "execution_count": null,
   "metadata": {},
   "outputs": [],
   "source": [
    "import pandas as pd\n",
    "import requests\n",
    "from time import sleep"
   ]
  },
  {
   "cell_type": "code",
   "execution_count": null,
   "metadata": {},
   "outputs": [],
   "source": [
    "url  ='http://dadosabertos.rio.rj.gov.br/apiTransporte/apresentacao/rest/index.cfm/obterTodasPosicoes'"
   ]
  },
  {
   "cell_type": "code",
   "execution_count": null,
   "metadata": {},
   "outputs": [],
   "source": [
    "def get_data():\n",
    "    try:\n",
    "        data = requests.get(url).json()\n",
    "        df = pd.DataFrame.from_records(data['DATA'], columns=data['COLUMNS'])\n",
    "        df['DATAHORA'].apply(lambda x: pd.datetime.strptime(x, \"%m-%d-%Y %H:%M:%S\"))\n",
    "        df['DATAHORA'] = pd.to_datetime(df['DATAHORA'], errors='coerce')\n",
    "        return df\n",
    "    except:\n",
    "        return pd.DataFrame()"
   ]
  },
  {
   "cell_type": "code",
   "execution_count": null,
   "metadata": {},
   "outputs": [],
   "source": [
    "y=0\n",
    "while True:\n",
    "    new_data = get_data()\n",
    "    if new_data.shape[0] >0:\n",
    "        datas = list(new_data.DATAHORA.dt.date.unique())\n",
    "        for data in datas:\n",
    "            filename = \"data/\"+str(data)+\".csv\"\n",
    "            try:\n",
    "                d = pd.read_csv(filename, parse_dates = ['DATAHORA'])\n",
    "            except:\n",
    "                d = pd.DataFrame()\n",
    "\n",
    "            d2 = d.append(new_data[new_data.DATAHORA.dt.date == data], ignore_index=True)\n",
    "            d2 = d2.drop_duplicates(keep='first')\n",
    "            d2.to_csv(filename, index=False)\n",
    "\n",
    "\n",
    "        if y%10 == 110:\n",
    "            !git pull\n",
    "            !git add .\n",
    "            !git commit -m \"atualizando dados\"\n",
    "            !git push\n",
    "    info = {'api_key':'QEZAG779CCSVAYZ5', 'field2': new_data.shape[0]}\n",
    "    thing_url ='https://api.thingspeak.com/update'\n",
    "    requests.post(thing_url,info)\n",
    "    y += 1\n",
    "    for _ in range(18):\n",
    "        print('.', end='', flush=True)\n",
    "        sleep(10)\n",
    "    \n"
   ]
  }
 ],
 "metadata": {
  "kernelspec": {
   "display_name": "Python 3",
   "language": "python",
   "name": "python3"
  },
  "language_info": {
   "codemirror_mode": {
    "name": "ipython",
    "version": 3
   },
   "file_extension": ".py",
   "mimetype": "text/x-python",
   "name": "python",
   "nbconvert_exporter": "python",
   "pygments_lexer": "ipython3",
   "version": "3.7.1"
  }
 },
 "nbformat": 4,
 "nbformat_minor": 2
}
