{
 "cells": [
  {
   "cell_type": "code",
   "execution_count": 1,
   "metadata": {},
   "outputs": [],
   "source": [
    "import pandas as pd\n",
    "import requests\n",
    "from time import sleep"
   ]
  },
  {
   "cell_type": "code",
   "execution_count": 2,
   "metadata": {},
   "outputs": [],
   "source": [
    "url  ='http://dadosabertos.rio.rj.gov.br/apiTransporte/apresentacao/rest/index.cfm/obterTodasPosicoes'"
   ]
  },
  {
   "cell_type": "code",
   "execution_count": 3,
   "metadata": {},
   "outputs": [],
   "source": [
    "def get_data():\n",
    "    try:\n",
    "        data = requests.get(url).json()\n",
    "        df = pd.DataFrame.from_records(data['DATA'], columns=data['COLUMNS'])\n",
    "        df['DATAHORA'].apply(lambda x: pd.datetime.strptime(x, \"%m-%d-%Y %H:%M:%S\"))\n",
    "        return df\n",
    "    except:\n",
    "        return pd.DataFrame()"
   ]
  },
  {
   "cell_type": "code",
   "execution_count": 4,
   "metadata": {},
   "outputs": [
    {
     "data": {
      "text/html": [
       "<div>\n",
       "<style scoped>\n",
       "    .dataframe tbody tr th:only-of-type {\n",
       "        vertical-align: middle;\n",
       "    }\n",
       "\n",
       "    .dataframe tbody tr th {\n",
       "        vertical-align: top;\n",
       "    }\n",
       "\n",
       "    .dataframe thead th {\n",
       "        text-align: right;\n",
       "    }\n",
       "</style>\n",
       "<table border=\"1\" class=\"dataframe\">\n",
       "  <thead>\n",
       "    <tr style=\"text-align: right;\">\n",
       "      <th></th>\n",
       "    </tr>\n",
       "  </thead>\n",
       "  <tbody>\n",
       "  </tbody>\n",
       "</table>\n",
       "</div>"
      ],
      "text/plain": [
       "Empty DataFrame\n",
       "Columns: []\n",
       "Index: []"
      ]
     },
     "execution_count": 4,
     "metadata": {},
     "output_type": "execute_result"
    }
   ],
   "source": [
    "get_data()"
   ]
  },
  {
   "cell_type": "code",
   "execution_count": 5,
   "metadata": {},
   "outputs": [],
   "source": [
    "try:\n",
    "    all_data = pd.read_csv('all_data.csv')\n",
    "except:\n",
    "    all_data = pd.DataFrame()\n"
   ]
  },
  {
   "cell_type": "code",
   "execution_count": 6,
   "metadata": {},
   "outputs": [
    {
     "data": {
      "text/html": [
       "<div>\n",
       "<style scoped>\n",
       "    .dataframe tbody tr th:only-of-type {\n",
       "        vertical-align: middle;\n",
       "    }\n",
       "\n",
       "    .dataframe tbody tr th {\n",
       "        vertical-align: top;\n",
       "    }\n",
       "\n",
       "    .dataframe thead th {\n",
       "        text-align: right;\n",
       "    }\n",
       "</style>\n",
       "<table border=\"1\" class=\"dataframe\">\n",
       "  <thead>\n",
       "    <tr style=\"text-align: right;\">\n",
       "      <th></th>\n",
       "      <th>DATAHORA</th>\n",
       "      <th>ORDEM</th>\n",
       "      <th>LINHA</th>\n",
       "      <th>LATITUDE</th>\n",
       "      <th>LONGITUDE</th>\n",
       "      <th>VELOCIDADE</th>\n",
       "    </tr>\n",
       "  </thead>\n",
       "  <tbody>\n",
       "    <tr>\n",
       "      <th>72332</th>\n",
       "      <td>2020-04-05 15:44:18</td>\n",
       "      <td>A71557</td>\n",
       "      <td>409.0</td>\n",
       "      <td>-22.96372</td>\n",
       "      <td>-43.21699</td>\n",
       "      <td>0.0</td>\n",
       "    </tr>\n",
       "    <tr>\n",
       "      <th>72333</th>\n",
       "      <td>2020-04-05 15:44:19</td>\n",
       "      <td>A71615</td>\n",
       "      <td>100.0</td>\n",
       "      <td>-22.98479</td>\n",
       "      <td>-43.19864</td>\n",
       "      <td>0.0</td>\n",
       "    </tr>\n",
       "    <tr>\n",
       "      <th>72334</th>\n",
       "      <td>2020-04-05 15:44:19</td>\n",
       "      <td>B82626</td>\n",
       "      <td>678.0</td>\n",
       "      <td>-22.88632</td>\n",
       "      <td>-43.25134</td>\n",
       "      <td>16.0</td>\n",
       "    </tr>\n",
       "    <tr>\n",
       "      <th>72335</th>\n",
       "      <td>2020-04-05 15:44:20</td>\n",
       "      <td>A71523</td>\n",
       "      <td>409.0</td>\n",
       "      <td>-22.94313</td>\n",
       "      <td>-43.17628</td>\n",
       "      <td>42.0</td>\n",
       "    </tr>\n",
       "    <tr>\n",
       "      <th>72336</th>\n",
       "      <td>2020-04-05 15:44:20</td>\n",
       "      <td>B71074</td>\n",
       "      <td>455.0</td>\n",
       "      <td>-22.90287</td>\n",
       "      <td>-43.18370</td>\n",
       "      <td>14.0</td>\n",
       "    </tr>\n",
       "  </tbody>\n",
       "</table>\n",
       "</div>"
      ],
      "text/plain": [
       "                  DATAHORA   ORDEM  LINHA  LATITUDE  LONGITUDE  VELOCIDADE\n",
       "72332  2020-04-05 15:44:18  A71557  409.0 -22.96372  -43.21699         0.0\n",
       "72333  2020-04-05 15:44:19  A71615  100.0 -22.98479  -43.19864         0.0\n",
       "72334  2020-04-05 15:44:19  B82626  678.0 -22.88632  -43.25134        16.0\n",
       "72335  2020-04-05 15:44:20  A71523  409.0 -22.94313  -43.17628        42.0\n",
       "72336  2020-04-05 15:44:20  B71074  455.0 -22.90287  -43.18370        14.0"
      ]
     },
     "execution_count": 6,
     "metadata": {},
     "output_type": "execute_result"
    }
   ],
   "source": [
    "all_data.tail()"
   ]
  },
  {
   "cell_type": "code",
   "execution_count": 10,
   "metadata": {
    "scrolled": false
   },
   "outputs": [
    {
     "name": "stdout",
     "output_type": "stream",
     "text": [
      "(72337, 6)\n",
      "Already up to date.\n"
     ]
    },
    {
     "name": "stderr",
     "output_type": "stream",
     "text": [
      "warning: LF will be replaced by CRLF in coletor_de_dados.ipynb.\n",
      "The file will have its original line endings in your working directory\n"
     ]
    },
    {
     "name": "stdout",
     "output_type": "stream",
     "text": [
      "[master 68c9eac] atualizando dados\n",
      " 3 files changed, 5168 insertions(+), 5043 deletions(-)\n",
      " rewrite coletor_de_dados.ipynb (81%)\n",
      " create mode 100644 documentacao_gps.pdf\n"
     ]
    }
   ],
   "source": [
    "y=0\n",
    "while True:\n",
    "    all_data = all_data.append(get_data(), ignore_index=True)\n",
    "    all_data = all_data.drop_duplicates(keep='first')\n",
    "    all_data.to_csv('all_data.csv', index=False)\n",
    "    print(all_data.shape)\n",
    "    data = {'api_key':'QEZAG779CCSVAYZ5' 'field2': all_data.shape[0]}\n",
    "    thing_url ='https://api.thingspeak.com/update' #?api_key=QEZAG779CCSVAYZ5&field1=73\n",
    "    resuests.post(thing_url,data)\n",
    "    y += 1\n",
    "    if y%10 == 0:\n",
    "        !git pull\n",
    "        !git add .\n",
    "        !git commit -m \"atualizando dados\"\n",
    "        !git push\n",
    "    sleep(180)\n"
   ]
  },
  {
   "cell_type": "code",
   "execution_count": 5,
   "metadata": {},
   "outputs": [
    {
     "data": {
      "text/plain": [
       "<Response [200]>"
      ]
     },
     "execution_count": 5,
     "metadata": {},
     "output_type": "execute_result"
    }
   ],
   "source": []
  },
  {
   "cell_type": "code",
   "execution_count": null,
   "metadata": {},
   "outputs": [],
   "source": []
  },
  {
   "cell_type": "code",
   "execution_count": null,
   "metadata": {},
   "outputs": [],
   "source": []
  }
 ],
 "metadata": {
  "kernelspec": {
   "display_name": "Python 3",
   "language": "python",
   "name": "python3"
  },
  "language_info": {
   "codemirror_mode": {
    "name": "ipython",
    "version": 3
   },
   "file_extension": ".py",
   "mimetype": "text/x-python",
   "name": "python",
   "nbconvert_exporter": "python",
   "pygments_lexer": "ipython3",
   "version": "3.7.1"
  }
 },
 "nbformat": 4,
 "nbformat_minor": 2
}
