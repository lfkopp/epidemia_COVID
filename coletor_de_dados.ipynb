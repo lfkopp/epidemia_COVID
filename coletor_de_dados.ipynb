{
 "cells": [
  {
   "cell_type": "code",
   "execution_count": null,
   "metadata": {},
   "outputs": [],
   "source": [
    "import pandas as pd\n",
    "import requests\n",
    "from time import sleep"
   ]
  },
  {
   "cell_type": "code",
   "execution_count": null,
   "metadata": {},
   "outputs": [],
   "source": [
    "url  ='http://dadosabertos.rio.rj.gov.br/apiTransporte/apresentacao/rest/index.cfm/obterTodasPosicoes'"
   ]
  },
  {
   "cell_type": "code",
   "execution_count": null,
   "metadata": {},
   "outputs": [],
   "source": [
    "def get_data():\n",
    "    try:\n",
    "        data = requests.get(url).json()\n",
    "        df = pd.DataFrame.from_records(data['DATA'], columns=data['COLUMNS'])\n",
    "        df['DATAHORA'].apply(lambda x: pd.datetime.strptime(x, \"%m-%d-%Y %H:%M:%S\"))\n",
    "        return df\n",
    "    except:\n",
    "        return pd.DataFrame()"
   ]
  },
  {
   "cell_type": "code",
   "execution_count": null,
   "metadata": {},
   "outputs": [],
   "source": [
    "get_data()"
   ]
  },
  {
   "cell_type": "code",
   "execution_count": null,
   "metadata": {},
   "outputs": [],
   "source": [
    "try:\n",
    "    all_data = pd.read_csv('all_data.csv')\n",
    "except:\n",
    "    all_data = pd.DataFrame()\n"
   ]
  },
  {
   "cell_type": "code",
   "execution_count": null,
   "metadata": {},
   "outputs": [],
   "source": [
    "all_data.tail()"
   ]
  },
  {
   "cell_type": "code",
   "execution_count": null,
   "metadata": {
    "scrolled": false
   },
   "outputs": [],
   "source": [
    "y=0\n",
    "while True:\n",
    "    all_data = all_data.append(get_data(), ignore_index=True)\n",
    "    all_data = all_data.drop_duplicates(keep='first')\n",
    "    all_data.to_csv('all_data.csv', index=False)\n",
    "    print(all_data.shape)\n",
    "    data = {'api_key':'QEZAG779CCSVAYZ5', 'field2': all_data.shape[0]}\n",
    "    thing_url ='https://api.thingspeak.com/update' #?api_key=QEZAG779CCSVAYZ5&field1=73\n",
    "    requests.post(thing_url,data)\n",
    "    y += 1\n",
    "    if y%10 == 0:\n",
    "        !git pull\n",
    "        !git add .\n",
    "        !git commit -m \"atualizando dados\"\n",
    "        !git push\n",
    "    sleep(180)\n"
   ]
  }
 ],
 "metadata": {
  "kernelspec": {
   "display_name": "Python 3",
   "language": "python",
   "name": "python3"
  },
  "language_info": {
   "codemirror_mode": {
    "name": "ipython",
    "version": 3
   },
   "file_extension": ".py",
   "mimetype": "text/x-python",
   "name": "python",
   "nbconvert_exporter": "python",
   "pygments_lexer": "ipython3",
   "version": "3.7.1"
  }
 },
 "nbformat": 4,
 "nbformat_minor": 2
}
